{
  "metadata": {
    "kernelspec": {
      "language": "python",
      "display_name": "Python 3",
      "name": "python3"
    },
    "language_info": {
      "name": "python",
      "version": "3.10.13",
      "mimetype": "text/x-python",
      "codemirror_mode": {
        "name": "ipython",
        "version": 3
      },
      "pygments_lexer": "ipython3",
      "nbconvert_exporter": "python",
      "file_extension": ".py"
    },
    "kaggle": {
      "accelerator": "gpu",
      "dataSources": [
        {
          "sourceId": 6041999,
          "sourceType": "datasetVersion",
          "datasetId": 3455862
        }
      ],
      "dockerImageVersionId": 30698,
      "isInternetEnabled": true,
      "language": "python",
      "sourceType": "notebook",
      "isGpuEnabled": true
    },
    "colab": {
      "provenance": [],
      "include_colab_link": true
    }
  },
  "nbformat_minor": 0,
  "nbformat": 4,
  "cells": [
    {
      "cell_type": "markdown",
      "metadata": {
        "id": "view-in-github",
        "colab_type": "text"
      },
      "source": [
        "<a href=\"https://colab.research.google.com/github/beenahmed/Parallelization-of-Neural-Networks/blob/main/finetuning_programmingdataset.ipynb\" target=\"_parent\"><img src=\"https://colab.research.google.com/assets/colab-badge.svg\" alt=\"Open In Colab\"/></a>"
      ]
    },
    {
      "cell_type": "code",
      "source": [
        "# Import libraries\n",
        "import os\n",
        "from datasets import load_dataset, Dataset\n",
        "from transformers import GPT2Tokenizer, GPT2LMHeadModel, Trainer, TrainingArguments\n",
        "import pandas as pd\n",
        "!pip install evaluate\n",
        "import evaluate"
      ],
      "metadata": {
        "_uuid": "8f2839f25d086af736a60e9eeb907d3b93b6e0e5",
        "_cell_guid": "b1076dfc-b9ad-4769-8c92-a6c4dae69d19",
        "execution": {
          "iopub.status.busy": "2024-05-28T13:41:26.316166Z",
          "iopub.execute_input": "2024-05-28T13:41:26.317038Z",
          "iopub.status.idle": "2024-05-28T13:41:39.505236Z",
          "shell.execute_reply.started": "2024-05-28T13:41:26.317004Z",
          "shell.execute_reply": "2024-05-28T13:41:39.504143Z"
        },
        "trusted": true,
        "id": "ei6MY3uDGw_T",
        "outputId": "54e7f2ca-1119-4336-af8d-e78fddb55f68"
      },
      "execution_count": null,
      "outputs": [
        {
          "name": "stdout",
          "text": "Collecting evaluate\n  Downloading evaluate-0.4.2-py3-none-any.whl.metadata (9.3 kB)\nRequirement already satisfied: datasets>=2.0.0 in /opt/conda/lib/python3.10/site-packages (from evaluate) (2.18.0)\nRequirement already satisfied: numpy>=1.17 in /opt/conda/lib/python3.10/site-packages (from evaluate) (1.26.4)\nRequirement already satisfied: dill in /opt/conda/lib/python3.10/site-packages (from evaluate) (0.3.8)\nRequirement already satisfied: pandas in /opt/conda/lib/python3.10/site-packages (from evaluate) (2.1.4)\nRequirement already satisfied: requests>=2.19.0 in /opt/conda/lib/python3.10/site-packages (from evaluate) (2.31.0)\nRequirement already satisfied: tqdm>=4.62.1 in /opt/conda/lib/python3.10/site-packages (from evaluate) (4.66.1)\nRequirement already satisfied: xxhash in /opt/conda/lib/python3.10/site-packages (from evaluate) (3.4.1)\nRequirement already satisfied: multiprocess in /opt/conda/lib/python3.10/site-packages (from evaluate) (0.70.16)\nRequirement already satisfied: fsspec>=2021.05.0 in /opt/conda/lib/python3.10/site-packages (from fsspec[http]>=2021.05.0->evaluate) (2024.2.0)\nRequirement already satisfied: huggingface-hub>=0.7.0 in /opt/conda/lib/python3.10/site-packages (from evaluate) (0.22.2)\nRequirement already satisfied: packaging in /opt/conda/lib/python3.10/site-packages (from evaluate) (21.3)\nRequirement already satisfied: filelock in /opt/conda/lib/python3.10/site-packages (from datasets>=2.0.0->evaluate) (3.13.1)\nRequirement already satisfied: pyarrow>=12.0.0 in /opt/conda/lib/python3.10/site-packages (from datasets>=2.0.0->evaluate) (15.0.2)\nRequirement already satisfied: pyarrow-hotfix in /opt/conda/lib/python3.10/site-packages (from datasets>=2.0.0->evaluate) (0.6)\nRequirement already satisfied: aiohttp in /opt/conda/lib/python3.10/site-packages (from datasets>=2.0.0->evaluate) (3.9.1)\nRequirement already satisfied: pyyaml>=5.1 in /opt/conda/lib/python3.10/site-packages (from datasets>=2.0.0->evaluate) (6.0.1)\nRequirement already satisfied: typing-extensions>=3.7.4.3 in /opt/conda/lib/python3.10/site-packages (from huggingface-hub>=0.7.0->evaluate) (4.9.0)\nRequirement already satisfied: pyparsing!=3.0.5,>=2.0.2 in /opt/conda/lib/python3.10/site-packages (from packaging->evaluate) (3.1.1)\nRequirement already satisfied: charset-normalizer<4,>=2 in /opt/conda/lib/python3.10/site-packages (from requests>=2.19.0->evaluate) (3.3.2)\nRequirement already satisfied: idna<4,>=2.5 in /opt/conda/lib/python3.10/site-packages (from requests>=2.19.0->evaluate) (3.6)\nRequirement already satisfied: urllib3<3,>=1.21.1 in /opt/conda/lib/python3.10/site-packages (from requests>=2.19.0->evaluate) (1.26.18)\nRequirement already satisfied: certifi>=2017.4.17 in /opt/conda/lib/python3.10/site-packages (from requests>=2.19.0->evaluate) (2024.2.2)\nRequirement already satisfied: python-dateutil>=2.8.2 in /opt/conda/lib/python3.10/site-packages (from pandas->evaluate) (2.9.0.post0)\nRequirement already satisfied: pytz>=2020.1 in /opt/conda/lib/python3.10/site-packages (from pandas->evaluate) (2023.3.post1)\nRequirement already satisfied: tzdata>=2022.1 in /opt/conda/lib/python3.10/site-packages (from pandas->evaluate) (2023.4)\nRequirement already satisfied: attrs>=17.3.0 in /opt/conda/lib/python3.10/site-packages (from aiohttp->datasets>=2.0.0->evaluate) (23.2.0)\nRequirement already satisfied: multidict<7.0,>=4.5 in /opt/conda/lib/python3.10/site-packages (from aiohttp->datasets>=2.0.0->evaluate) (6.0.4)\nRequirement already satisfied: yarl<2.0,>=1.0 in /opt/conda/lib/python3.10/site-packages (from aiohttp->datasets>=2.0.0->evaluate) (1.9.3)\nRequirement already satisfied: frozenlist>=1.1.1 in /opt/conda/lib/python3.10/site-packages (from aiohttp->datasets>=2.0.0->evaluate) (1.4.1)\nRequirement already satisfied: aiosignal>=1.1.2 in /opt/conda/lib/python3.10/site-packages (from aiohttp->datasets>=2.0.0->evaluate) (1.3.1)\nRequirement already satisfied: async-timeout<5.0,>=4.0 in /opt/conda/lib/python3.10/site-packages (from aiohttp->datasets>=2.0.0->evaluate) (4.0.3)\nRequirement already satisfied: six>=1.5 in /opt/conda/lib/python3.10/site-packages (from python-dateutil>=2.8.2->pandas->evaluate) (1.16.0)\nDownloading evaluate-0.4.2-py3-none-any.whl (84 kB)\n\u001b[2K   \u001b[90m━━━━━━━━━━━━━━━━━━━━━━━━━━━━━━━━━━━━━━━━\u001b[0m \u001b[32m84.1/84.1 kB\u001b[0m \u001b[31m2.5 MB/s\u001b[0m eta \u001b[36m0:00:00\u001b[0m\n\u001b[?25hInstalling collected packages: evaluate\nSuccessfully installed evaluate-0.4.2\n",
          "output_type": "stream"
        }
      ]
    },
    {
      "cell_type": "code",
      "source": [
        "# Load dataset from Kaggle's input directory\n",
        "data = pd.read_csv('/kaggle/input/codeforces-competitive-programming-dataset/CompetitiveProgrammingDataset.csv')\n",
        "data.head()\n"
      ],
      "metadata": {
        "execution": {
          "iopub.status.busy": "2024-05-28T13:19:42.609364Z",
          "iopub.execute_input": "2024-05-28T13:19:42.609727Z",
          "iopub.status.idle": "2024-05-28T13:19:42.751997Z",
          "shell.execute_reply.started": "2024-05-28T13:19:42.609700Z",
          "shell.execute_reply": "2024-05-28T13:19:42.750936Z"
        },
        "trusted": true,
        "id": "gAiBuHl7Gw_X",
        "outputId": "cc7581c7-0234-4307-aae6-d03df60b2da2"
      },
      "execution_count": null,
      "outputs": [
        {
          "execution_count": 3,
          "output_type": "execute_result",
          "data": {
            "text/plain": "   Unnamed: 0                                    problem_link  \\\n0           0  https://codeforces.com//contest/1741/problem/A   \n1           1  https://codeforces.com//contest/1741/problem/B   \n2           2  https://codeforces.com//contest/1741/problem/C   \n3           3  https://codeforces.com//contest/1741/problem/D   \n4           4  https://codeforces.com//contest/1741/problem/E   \n\n                             problem_name  \\\n0                A. Compare T-Shirt Sizes   \n1                    B. Funny Permutation   \n2               C. Minimize the Thickness   \n3           D. Masha and a Beautiful Tree   \n4  E. Sending a Sequence Over the Network   \n\n                                   problem_statement  \\\n0  Two T-shirt sizes are given:  and . The T-shir...   \n1  A sequence of  numbers is called  if it contai...   \n2  You are given a sequence  consisting of   inte...   \n3  The girl named Masha was walking in the forest...   \n4  The sequence  is sent over the network as foll...   \n\n                                               input  \\\n0  The first line of the input contains a single ...   \n1  The first line of input data contains a single...   \n2  The first line contains a single integer  () —...   \n3  The first line contains single integer  () — n...   \n4  The first line of input data contains a single...   \n\n                                              output  \\\n0  For each test case, print on a separate line t...   \n1  For each test case, print on a separate line: ...   \n2  For each test case, output one integer — the m...   \n3  For each test case in a separate line, print t...   \n4  For each test case print on a separate line:  ...   \n\n                                           editorial  \\\n0  Let ,  are the last characters of lines  and  ...   \n1  We cannot make a funny permutation only when ,...   \n2  Let's iterate over the length of the first seg...   \n3  Let some vertex be responsible for a segment o...   \n4  Let's introduce the dynamics.  if on the prefi...   \n\n                                     coding_solution  \n0  #include <bits/stdc++.h>\\n \\nusing namespace s...  \n1  #include \"bits/stdc++.h\"\\nusing namespace std;...  \n2  #include <bits/stdc++.h>\\n\\nusing namespace st...  \n3  #include <bits/stdc++.h>\\n\\nusing namespace st...  \n4  #include <bits/stdc++.h>\\n\\nusing namespace st...  ",
            "text/html": "<div>\n<style scoped>\n    .dataframe tbody tr th:only-of-type {\n        vertical-align: middle;\n    }\n\n    .dataframe tbody tr th {\n        vertical-align: top;\n    }\n\n    .dataframe thead th {\n        text-align: right;\n    }\n</style>\n<table border=\"1\" class=\"dataframe\">\n  <thead>\n    <tr style=\"text-align: right;\">\n      <th></th>\n      <th>Unnamed: 0</th>\n      <th>problem_link</th>\n      <th>problem_name</th>\n      <th>problem_statement</th>\n      <th>input</th>\n      <th>output</th>\n      <th>editorial</th>\n      <th>coding_solution</th>\n    </tr>\n  </thead>\n  <tbody>\n    <tr>\n      <th>0</th>\n      <td>0</td>\n      <td>https://codeforces.com//contest/1741/problem/A</td>\n      <td>A. Compare T-Shirt Sizes</td>\n      <td>Two T-shirt sizes are given:  and . The T-shir...</td>\n      <td>The first line of the input contains a single ...</td>\n      <td>For each test case, print on a separate line t...</td>\n      <td>Let ,  are the last characters of lines  and  ...</td>\n      <td>#include &lt;bits/stdc++.h&gt;\\n \\nusing namespace s...</td>\n    </tr>\n    <tr>\n      <th>1</th>\n      <td>1</td>\n      <td>https://codeforces.com//contest/1741/problem/B</td>\n      <td>B. Funny Permutation</td>\n      <td>A sequence of  numbers is called  if it contai...</td>\n      <td>The first line of input data contains a single...</td>\n      <td>For each test case, print on a separate line: ...</td>\n      <td>We cannot make a funny permutation only when ,...</td>\n      <td>#include \"bits/stdc++.h\"\\nusing namespace std;...</td>\n    </tr>\n    <tr>\n      <th>2</th>\n      <td>2</td>\n      <td>https://codeforces.com//contest/1741/problem/C</td>\n      <td>C. Minimize the Thickness</td>\n      <td>You are given a sequence  consisting of   inte...</td>\n      <td>The first line contains a single integer  () —...</td>\n      <td>For each test case, output one integer — the m...</td>\n      <td>Let's iterate over the length of the first seg...</td>\n      <td>#include &lt;bits/stdc++.h&gt;\\n\\nusing namespace st...</td>\n    </tr>\n    <tr>\n      <th>3</th>\n      <td>3</td>\n      <td>https://codeforces.com//contest/1741/problem/D</td>\n      <td>D. Masha and a Beautiful Tree</td>\n      <td>The girl named Masha was walking in the forest...</td>\n      <td>The first line contains single integer  () — n...</td>\n      <td>For each test case in a separate line, print t...</td>\n      <td>Let some vertex be responsible for a segment o...</td>\n      <td>#include &lt;bits/stdc++.h&gt;\\n\\nusing namespace st...</td>\n    </tr>\n    <tr>\n      <th>4</th>\n      <td>4</td>\n      <td>https://codeforces.com//contest/1741/problem/E</td>\n      <td>E. Sending a Sequence Over the Network</td>\n      <td>The sequence  is sent over the network as foll...</td>\n      <td>The first line of input data contains a single...</td>\n      <td>For each test case print on a separate line:  ...</td>\n      <td>Let's introduce the dynamics.  if on the prefi...</td>\n      <td>#include &lt;bits/stdc++.h&gt;\\n\\nusing namespace st...</td>\n    </tr>\n  </tbody>\n</table>\n</div>"
          },
          "metadata": {}
        }
      ]
    },
    {
      "cell_type": "code",
      "source": [
        "# Assuming the columns are named 'problem_statement', 'coding_solution', and 'input' as per your description\n",
        "# Select relevant columns\n",
        "data = data[['problem_statement', 'coding_solution', 'input']]\n",
        "\n",
        "# Concatenate problem_statement, input, and coding_solution into a single column for language modeling\n",
        "data['text'] = data['problem_statement'].astype(str) + \"\\nInput: \" + data['input'].astype(str) + \"\\nSolution:\\n\" + data['coding_solution'].astype(str)\n",
        "\n",
        "# Convert DataFrame to Dataset object\n",
        "dataset = Dataset.from_pandas(data[['text']])\n",
        "\n",
        "# Split the dataset into train and test\n",
        "train_test_split = dataset.train_test_split(test_size=0.1)\n",
        "train_dataset = train_test_split['train']\n",
        "test_dataset = train_test_split['test']\n"
      ],
      "metadata": {
        "execution": {
          "iopub.status.busy": "2024-05-28T13:19:44.561743Z",
          "iopub.execute_input": "2024-05-28T13:19:44.562556Z",
          "iopub.status.idle": "2024-05-28T13:19:44.651514Z",
          "shell.execute_reply.started": "2024-05-28T13:19:44.562514Z",
          "shell.execute_reply": "2024-05-28T13:19:44.650525Z"
        },
        "trusted": true,
        "id": "05K1FSDMGw_Z"
      },
      "execution_count": null,
      "outputs": []
    },
    {
      "cell_type": "code",
      "source": [
        "# Initialize tokenizer\n",
        "tokenizer = GPT2Tokenizer.from_pretrained('gpt2')\n",
        "\n",
        "# Set pad token\n",
        "tokenizer.pad_token = tokenizer.eos_token\n",
        "\n",
        "# Tokenize function\n",
        "def tokenize_function(examples):\n",
        "    return tokenizer(examples['text'], padding=\"max_length\", truncation=True)\n",
        "\n",
        "# Apply tokenization with parallelization\n",
        "tokenized_train = train_dataset.map(tokenize_function, batched=True, remove_columns=[\"text\"], num_proc=4)\n",
        "tokenized_test = test_dataset.map(tokenize_function, batched=True, remove_columns=[\"text\"], num_proc=4)\n",
        "\n",
        "# Add labels for language modeling\n",
        "tokenized_train = tokenized_train.map(lambda examples: {'labels': examples['input_ids']}, batched=True, num_proc=4)\n",
        "tokenized_test = tokenized_test.map(lambda examples: {'labels': examples['input_ids']}, batched=True, num_proc=4)\n"
      ],
      "metadata": {
        "execution": {
          "iopub.status.busy": "2024-05-28T13:19:46.474414Z",
          "iopub.execute_input": "2024-05-28T13:19:46.474797Z",
          "iopub.status.idle": "2024-05-28T13:19:59.499625Z",
          "shell.execute_reply.started": "2024-05-28T13:19:46.474769Z",
          "shell.execute_reply": "2024-05-28T13:19:59.498531Z"
        },
        "trusted": true,
        "id": "vY6hlXaSGw_b",
        "outputId": "e1b93778-87c4-4f11-8658-e6108656d683",
        "colab": {
          "referenced_widgets": [
            "a78b014223c44b65ba2d5a5220df9892",
            "93cdc66305284ed29463964c86321775",
            "bd8f7fd6a26448a2a3dc1a326aeb7766",
            "a1aba2910d4e443985e0fbfa2c20bc95",
            "f6f7563303fd472a98107297d26e99e1",
            "45dc50c993e54ebe9e39b7b4a81db203",
            "f55c9a664341400c8643277381e7252c",
            "a933d5e959b345d79b4bf7e696095160",
            "c87f450c2b6d4e29b4e2b46ede7a75ea"
          ]
        }
      },
      "execution_count": null,
      "outputs": [
        {
          "output_type": "display_data",
          "data": {
            "text/plain": "tokenizer_config.json:   0%|          | 0.00/26.0 [00:00<?, ?B/s]",
            "application/vnd.jupyter.widget-view+json": {
              "version_major": 2,
              "version_minor": 0,
              "model_id": "a78b014223c44b65ba2d5a5220df9892"
            }
          },
          "metadata": {}
        },
        {
          "output_type": "display_data",
          "data": {
            "text/plain": "vocab.json:   0%|          | 0.00/1.04M [00:00<?, ?B/s]",
            "application/vnd.jupyter.widget-view+json": {
              "version_major": 2,
              "version_minor": 0,
              "model_id": "93cdc66305284ed29463964c86321775"
            }
          },
          "metadata": {}
        },
        {
          "output_type": "display_data",
          "data": {
            "text/plain": "merges.txt:   0%|          | 0.00/456k [00:00<?, ?B/s]",
            "application/vnd.jupyter.widget-view+json": {
              "version_major": 2,
              "version_minor": 0,
              "model_id": "bd8f7fd6a26448a2a3dc1a326aeb7766"
            }
          },
          "metadata": {}
        },
        {
          "output_type": "display_data",
          "data": {
            "text/plain": "tokenizer.json:   0%|          | 0.00/1.36M [00:00<?, ?B/s]",
            "application/vnd.jupyter.widget-view+json": {
              "version_major": 2,
              "version_minor": 0,
              "model_id": "a1aba2910d4e443985e0fbfa2c20bc95"
            }
          },
          "metadata": {}
        },
        {
          "output_type": "display_data",
          "data": {
            "text/plain": "config.json:   0%|          | 0.00/665 [00:00<?, ?B/s]",
            "application/vnd.jupyter.widget-view+json": {
              "version_major": 2,
              "version_minor": 0,
              "model_id": "f6f7563303fd472a98107297d26e99e1"
            }
          },
          "metadata": {}
        },
        {
          "output_type": "display_data",
          "data": {
            "text/plain": "Map (num_proc=4):   0%|          | 0/1395 [00:00<?, ? examples/s]",
            "application/vnd.jupyter.widget-view+json": {
              "version_major": 2,
              "version_minor": 0,
              "model_id": "45dc50c993e54ebe9e39b7b4a81db203"
            }
          },
          "metadata": {}
        },
        {
          "output_type": "display_data",
          "data": {
            "text/plain": "Map (num_proc=4):   0%|          | 0/155 [00:00<?, ? examples/s]",
            "application/vnd.jupyter.widget-view+json": {
              "version_major": 2,
              "version_minor": 0,
              "model_id": "f55c9a664341400c8643277381e7252c"
            }
          },
          "metadata": {}
        },
        {
          "output_type": "display_data",
          "data": {
            "text/plain": "Map (num_proc=4):   0%|          | 0/1395 [00:00<?, ? examples/s]",
            "application/vnd.jupyter.widget-view+json": {
              "version_major": 2,
              "version_minor": 0,
              "model_id": "a933d5e959b345d79b4bf7e696095160"
            }
          },
          "metadata": {}
        },
        {
          "output_type": "display_data",
          "data": {
            "text/plain": "Map (num_proc=4):   0%|          | 0/155 [00:00<?, ? examples/s]",
            "application/vnd.jupyter.widget-view+json": {
              "version_major": 2,
              "version_minor": 0,
              "model_id": "c87f450c2b6d4e29b4e2b46ede7a75ea"
            }
          },
          "metadata": {}
        }
      ]
    },
    {
      "cell_type": "code",
      "source": [
        "# Initialize model\n",
        "model = GPT2LMHeadModel.from_pretrained('gpt2')\n",
        "\n",
        "# Set up training arguments\n",
        "training_args = TrainingArguments(\n",
        "    output_dir='./results',\n",
        "    evaluation_strategy=\"epoch\",\n",
        "    learning_rate=2e-5,\n",
        "    per_device_train_batch_size=4,\n",
        "    per_device_eval_batch_size=4,\n",
        "    num_train_epochs=2,\n",
        "    weight_decay=0.01,\n",
        "    # Enable multi-GPU training\n",
        "    fp16=True,\n",
        ")\n",
        "\n",
        "# Initialize Trainer\n",
        "trainer = Trainer(\n",
        "    model=model,\n",
        "    args=training_args,\n",
        "    train_dataset=tokenized_train,\n",
        "    eval_dataset=tokenized_test,\n",
        ")"
      ],
      "metadata": {
        "execution": {
          "iopub.status.busy": "2024-05-28T13:19:59.501681Z",
          "iopub.execute_input": "2024-05-28T13:19:59.501982Z",
          "iopub.status.idle": "2024-05-28T13:20:04.068452Z",
          "shell.execute_reply.started": "2024-05-28T13:19:59.501954Z",
          "shell.execute_reply": "2024-05-28T13:20:04.067498Z"
        },
        "trusted": true,
        "id": "lfQQye4aGw_d",
        "outputId": "672c52b7-1d9f-4bb2-ee42-79cbd0158d4e",
        "colab": {
          "referenced_widgets": [
            "796535ec188645c1ba423efde2344014",
            "2460fd34e8164299ad19e58b5b8c1e2d"
          ]
        }
      },
      "execution_count": null,
      "outputs": [
        {
          "output_type": "display_data",
          "data": {
            "text/plain": "model.safetensors:   0%|          | 0.00/548M [00:00<?, ?B/s]",
            "application/vnd.jupyter.widget-view+json": {
              "version_major": 2,
              "version_minor": 0,
              "model_id": "796535ec188645c1ba423efde2344014"
            }
          },
          "metadata": {}
        },
        {
          "output_type": "display_data",
          "data": {
            "text/plain": "generation_config.json:   0%|          | 0.00/124 [00:00<?, ?B/s]",
            "application/vnd.jupyter.widget-view+json": {
              "version_major": 2,
              "version_minor": 0,
              "model_id": "2460fd34e8164299ad19e58b5b8c1e2d"
            }
          },
          "metadata": {}
        },
        {
          "name": "stderr",
          "text": "/opt/conda/lib/python3.10/site-packages/accelerate/accelerator.py:436: FutureWarning: Passing the following arguments to `Accelerator` is deprecated and will be removed in version 1.0 of Accelerate: dict_keys(['dispatch_batches', 'split_batches', 'even_batches', 'use_seedable_sampler']). Please pass an `accelerate.DataLoaderConfiguration` instead: \ndataloader_config = DataLoaderConfiguration(dispatch_batches=None, split_batches=False, even_batches=True, use_seedable_sampler=True)\n  warnings.warn(\n",
          "output_type": "stream"
        }
      ]
    },
    {
      "cell_type": "code",
      "source": [
        "# Fine-tune the model\n",
        "trainer.train()"
      ],
      "metadata": {
        "execution": {
          "iopub.status.busy": "2024-05-28T13:20:04.069654Z",
          "iopub.execute_input": "2024-05-28T13:20:04.069926Z",
          "iopub.status.idle": "2024-05-28T13:30:47.450727Z",
          "shell.execute_reply.started": "2024-05-28T13:20:04.069902Z",
          "shell.execute_reply": "2024-05-28T13:30:47.449797Z"
        },
        "trusted": true,
        "id": "wjx5FwzoGw_e",
        "outputId": "b901be48-7cd3-4bfc-d169-579828fa6f90"
      },
      "execution_count": null,
      "outputs": [
        {
          "name": "stderr",
          "text": "\u001b[34m\u001b[1mwandb\u001b[0m: Logging into wandb.ai. (Learn how to deploy a W&B server locally: https://wandb.me/wandb-server)\n\u001b[34m\u001b[1mwandb\u001b[0m: You can find your API key in your browser here: https://wandb.ai/authorize\n\u001b[34m\u001b[1mwandb\u001b[0m: Paste an API key from your profile and hit enter, or press ctrl+c to quit:",
          "output_type": "stream"
        },
        {
          "output_type": "stream",
          "name": "stdin",
          "text": "  ········································\n"
        },
        {
          "name": "stderr",
          "text": "\u001b[34m\u001b[1mwandb\u001b[0m: Appending key for api.wandb.ai to your netrc file: /root/.netrc\n",
          "output_type": "stream"
        },
        {
          "output_type": "display_data",
          "data": {
            "text/plain": "<IPython.core.display.HTML object>",
            "text/html": "wandb version 0.17.0 is available!  To upgrade, please run:\n $ pip install wandb --upgrade"
          },
          "metadata": {}
        },
        {
          "output_type": "display_data",
          "data": {
            "text/plain": "<IPython.core.display.HTML object>",
            "text/html": "Tracking run with wandb version 0.16.6"
          },
          "metadata": {}
        },
        {
          "output_type": "display_data",
          "data": {
            "text/plain": "<IPython.core.display.HTML object>",
            "text/html": "Run data is saved locally in <code>/kaggle/working/wandb/run-20240528_132045-qm9r1xba</code>"
          },
          "metadata": {}
        },
        {
          "output_type": "display_data",
          "data": {
            "text/plain": "<IPython.core.display.HTML object>",
            "text/html": "Syncing run <strong><a href='https://wandb.ai/tk474/huggingface/runs/qm9r1xba' target=\"_blank\">silvery-dream-6</a></strong> to <a href='https://wandb.ai/tk474/huggingface' target=\"_blank\">Weights & Biases</a> (<a href='https://wandb.me/run' target=\"_blank\">docs</a>)<br/>"
          },
          "metadata": {}
        },
        {
          "output_type": "display_data",
          "data": {
            "text/plain": "<IPython.core.display.HTML object>",
            "text/html": " View project at <a href='https://wandb.ai/tk474/huggingface' target=\"_blank\">https://wandb.ai/tk474/huggingface</a>"
          },
          "metadata": {}
        },
        {
          "output_type": "display_data",
          "data": {
            "text/plain": "<IPython.core.display.HTML object>",
            "text/html": " View run at <a href='https://wandb.ai/tk474/huggingface/runs/qm9r1xba' target=\"_blank\">https://wandb.ai/tk474/huggingface/runs/qm9r1xba</a>"
          },
          "metadata": {}
        },
        {
          "output_type": "display_data",
          "data": {
            "text/plain": "<IPython.core.display.HTML object>",
            "text/html": "\n    <div>\n      \n      <progress value='698' max='698' style='width:300px; height:20px; vertical-align: middle;'></progress>\n      [698/698 09:43, Epoch 2/2]\n    </div>\n    <table border=\"1\" class=\"dataframe\">\n  <thead>\n <tr style=\"text-align: left;\">\n      <th>Epoch</th>\n      <th>Training Loss</th>\n      <th>Validation Loss</th>\n    </tr>\n  </thead>\n  <tbody>\n    <tr>\n      <td>1</td>\n      <td>No log</td>\n      <td>0.994315</td>\n    </tr>\n    <tr>\n      <td>2</td>\n      <td>1.340100</td>\n      <td>0.949962</td>\n    </tr>\n  </tbody>\n</table><p>"
          },
          "metadata": {}
        },
        {
          "execution_count": 7,
          "output_type": "execute_result",
          "data": {
            "text/plain": "TrainOutput(global_step=698, training_loss=1.2618364044451782, metrics={'train_runtime': 643.0198, 'train_samples_per_second': 4.339, 'train_steps_per_second': 1.086, 'total_flos': 1458009538560000.0, 'train_loss': 1.2618364044451782, 'epoch': 2.0})"
          },
          "metadata": {}
        }
      ]
    },
    {
      "cell_type": "code",
      "source": [
        "# Evaluate the model\n",
        "results = trainer.evaluate()\n",
        "print(results)\n"
      ],
      "metadata": {
        "execution": {
          "iopub.status.busy": "2024-05-28T13:39:32.790444Z",
          "iopub.execute_input": "2024-05-28T13:39:32.790853Z",
          "iopub.status.idle": "2024-05-28T13:39:44.027197Z",
          "shell.execute_reply.started": "2024-05-28T13:39:32.790822Z",
          "shell.execute_reply": "2024-05-28T13:39:44.026156Z"
        },
        "trusted": true,
        "id": "nMLFHs0QGw_e",
        "outputId": "d89f8820-3c75-46ad-db05-5d9e20426b1d"
      },
      "execution_count": null,
      "outputs": [
        {
          "output_type": "display_data",
          "data": {
            "text/plain": "<IPython.core.display.HTML object>",
            "text/html": "\n    <div>\n      \n      <progress value='39' max='39' style='width:300px; height:20px; vertical-align: middle;'></progress>\n      [39/39 00:10]\n    </div>\n    "
          },
          "metadata": {}
        },
        {
          "name": "stdout",
          "text": "{'eval_loss': 0.94996178150177, 'eval_runtime': 11.2232, 'eval_samples_per_second': 13.811, 'eval_steps_per_second': 3.475, 'epoch': 2.0}\n",
          "output_type": "stream"
        }
      ]
    },
    {
      "cell_type": "code",
      "source": [],
      "metadata": {
        "id": "MCknlA7NGw_f"
      },
      "execution_count": null,
      "outputs": []
    },
    {
      "cell_type": "code",
      "source": [
        "# Save the model and tokenizer\n",
        "model.save_pretrained('/kaggle/working/fine-tuned-gpt2')\n",
        "tokenizer.save_pretrained('/kaggle/working/fine-tuned-gpt2')"
      ],
      "metadata": {
        "execution": {
          "iopub.status.busy": "2024-05-28T13:40:00.182992Z",
          "iopub.execute_input": "2024-05-28T13:40:00.183649Z",
          "iopub.status.idle": "2024-05-28T13:40:01.274172Z",
          "shell.execute_reply.started": "2024-05-28T13:40:00.183613Z",
          "shell.execute_reply": "2024-05-28T13:40:01.273065Z"
        },
        "trusted": true,
        "id": "csiQ0EIpGw_f",
        "outputId": "eb4fdcb7-55f7-44bd-a55e-bd3a31e3f8e2"
      },
      "execution_count": null,
      "outputs": [
        {
          "execution_count": 9,
          "output_type": "execute_result",
          "data": {
            "text/plain": "('/kaggle/working/fine-tuned-gpt2/tokenizer_config.json',\n '/kaggle/working/fine-tuned-gpt2/special_tokens_map.json',\n '/kaggle/working/fine-tuned-gpt2/vocab.json',\n '/kaggle/working/fine-tuned-gpt2/merges.txt',\n '/kaggle/working/fine-tuned-gpt2/added_tokens.json')"
          },
          "metadata": {}
        }
      ]
    },
    {
      "cell_type": "markdown",
      "source": [
        "**Testing**"
      ],
      "metadata": {
        "id": "YTNf_ckBGw_g"
      }
    },
    {
      "cell_type": "code",
      "source": [
        "# Load the fine-tuned model and tokenizer\n",
        "model = GPT2LMHeadModel.from_pretrained('/kaggle/working/fine-tuned-gpt2')\n",
        "tokenizer = GPT2Tokenizer.from_pretrained('/kaggle/working/fine-tuned-gpt2')\n",
        "\n",
        "# Ensure the padding token is set\n",
        "tokenizer.pad_token = tokenizer.eos_token\n",
        "\n",
        "# Example problem statement\n",
        "problem_statement = 'How to reverse an array'\n",
        "# Encode the input text\n",
        "input_ids = tokenizer.encode(problem_statement, return_tensors='pt')\n",
        "\n",
        "# Create attention mask\n",
        "attention_mask = (input_ids != tokenizer.pad_token_id).long()\n",
        "\n",
        "# Generate text using the fine-tuned model\n",
        "output = model.generate(\n",
        "    input_ids,\n",
        "    attention_mask=attention_mask,\n",
        "    max_length=1000,\n",
        "    num_return_sequences=1,\n",
        "    no_repeat_ngram_size=2,\n",
        "    pad_token_id=tokenizer.eos_token_id,\n",
        "    num_beams=5,\n",
        "    early_stopping=True\n",
        ")\n",
        "\n",
        "# Decode the generated text\n",
        "generated_text = tokenizer.decode(output[0], skip_special_tokens=True)\n",
        "\n",
        "print(\"Problem Statement: \", problem_statement)\n",
        "print(\"Generated Solution: \", generated_text)\n"
      ],
      "metadata": {
        "execution": {
          "iopub.status.busy": "2024-05-28T13:43:01.852592Z",
          "iopub.execute_input": "2024-05-28T13:43:01.852980Z",
          "iopub.status.idle": "2024-05-28T13:43:10.307331Z",
          "shell.execute_reply.started": "2024-05-28T13:43:01.852946Z",
          "shell.execute_reply": "2024-05-28T13:43:10.306395Z"
        },
        "trusted": true,
        "id": "RK7qxscxGw_h",
        "outputId": "cb0b36ba-6028-4058-95d9-624167a354bc"
      },
      "execution_count": null,
      "outputs": [
        {
          "name": "stdout",
          "text": "Problem Statement:  How to reverse an array\nGenerated Solution:  How to reverse an array?\nInput: The first line of the input contains one integer  () — the number of test cases. The second line contains  integers  (), where  is the array's length.\nSolution:\n#include <bits/stdc++.h>\nusing namespace std;\n\nint main() {\n\tfreopen(\"input.txt\", \"r\", stdin); cin.tie(0, stdout); cout << \"\\n\";\n}\n",
          "output_type": "stream"
        }
      ]
    }
  ]
}